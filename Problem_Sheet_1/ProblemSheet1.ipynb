{
 "cells": [
  {
   "cell_type": "markdown",
   "metadata": {},
   "source": [
    "# <center>Numerical modeling and numerical methods for ODEs I.</center>"
   ]
  },
  {
   "cell_type": "markdown",
   "metadata": {},
   "source": [
    "\n",
    "## <center>Imre Fekete</center>\n"
   ]
  },
  {
   "cell_type": "markdown",
   "metadata": {},
   "source": [
    "### <center>Department of Applied Analysis and Computational Mathematics</center>\n"
   ]
  },
  {
   "cell_type": "markdown",
   "metadata": {},
   "source": [
    "<img src=\"elte_cimer.jpg\" width=\"400\">\n"
   ]
  },
  {
   "cell_type": "markdown",
   "metadata": {},
   "source": [
    "### General information:\n",
    "+ Website: <a href=\"http://imrefekete.web.elte.hu/\" target=\"_blank\"> http://imrefekete.web.elte.hu/</a>\n",
    "+ Contact: Teams Group\n",
    "+ Office hours: M 1-2 pm and Tue 11 am-12 pm\n",
    "+ All of the course material can be found at the  <a href=\"https://github.com/feipaat/Numerical-Methods-for-ODEs-1.-ELTE-\"> GitHub repo</a>"
   ]
  },
  {
   "cell_type": "markdown",
   "metadata": {},
   "source": [
    "### Evaluation:\n",
    "\n",
    "+ 50% - Midterm test after explicit methods (mainly programming problems)\n",
    "+ 50% - Group project (report and presentation) \n",
    "+ Solving extra problems worth additional points"
   ]
  },
  {
   "cell_type": "markdown",
   "metadata": {
    "slideshow": {
     "slide_type": "slide"
    }
   },
   "source": [
    "### Literature:\n",
    "\n",
    "#### Lecture Notes (Eötvös Loránd University)\n",
    "+ The extended Lecture Notes of Prof. Faragó.\n",
    "    + <a href=\"http://tankonyvtar.ttk.bme.hu/authorlistp.jsp?bookId=77\"> István Faragó: Numerical Methods for Ordinary Differential Equations</a>\n",
    "\n",
    "#### Programming Languages (Mainly in Python certain problems will be solved in MATLAB)\n",
    "+ Nice and student friendly introduction to Scientific Python. You can download it for free from the link below.\n",
    "    + <a href=\"https://www.springer.com/gp/book/9783030168766\">Svein Linge, Hans Petter Langtangen: Programming for Computations - Python, A Gentle Introduction to Numerical Simulations with Python 3.6</a><br> (You can download it for free \n",
    "+ A more complete introduction to Scientific Programming with Python.\n",
    "    + Hans Petter Langtangen: A Primer on Scientific Programming with Python\n",
    "+ The basic references for MATLAB. You can download it for free from <a href=\"https://www.mathworks.com/moler.html\">this link</a>.\n",
    "    + Cleve Moler: Experiments with MATLAB\n",
    "    + Cleve Moler: Numerical Computing with MATLAB\n",
    "\n",
    "\n",
    "#### Recommended literature\n",
    "+ A really expressive US style book in this topic. \n",
    "    + Randy LeVeque: Finite Difference Methods for Ordinary and Partial Differential Equations, Steady State and Time Dependent Problems\n",
    "+ A more advanced US style book.\n",
    "    + Uri Ascher: Numerical Methods for Evolutionary Differential Equations\n",
    "    \n",
    "- The Bible in this topic. \n",
    "    + Hairer, Norsett, Wanner: Solving Ordinary Differential Equations I, Nonstiff Problems \n",
    "    + Hairer, Wanner: Solving Ordinary Differential Equations II, Stiff and Differential-Algebraic Problems\n",
    "\n",
    "<br>\n",
    "For further readings please ask me in person since the literature is really huge.\n",
    "<br><br>\n"
   ]
  },
  {
   "cell_type": "markdown",
   "metadata": {},
   "source": [
    "### Four wishes:\n",
    "\n",
    "<br>\n",
    "<br>\n",
    "\n",
    "\n",
    "<div style=\"width:870 px\"></div>\n",
    "<div style=\"float:left\"><img src=\"questions.jpg\" width=\"400\" title=\"Please ask me if something is not clear!\"/></div>\n",
    "<div style=\"float:center\"><img src=\"positive.jpg\" width=\"450\" title=\"Have a nice time during the seminars!\"/></div>"
   ]
  },
  {
   "cell_type": "markdown",
   "metadata": {},
   "source": [
    "<div style=\"float:left\"><img src=\"rest.jpg\" width=\"280\" title=\"Enjoy the learning process!\"/></div>\n",
    "<div style=\"float:center\"><img src=\"practice.jpg\" width=\"350\" title=\"Practice makes perfect!\"/></div>\n",
    "<br>\n",
    "<br>"
   ]
  },
  {
   "cell_type": "markdown",
   "metadata": {},
   "source": [
    "## What are we going to learn in this semester?\n",
    "\n",
    "<br>\n",
    "<br>\n",
    "\n",
    "### I. Explicit and implicit Runge-Kutta methods\n",
    "<br>\n",
    "\n",
    "<div style=\"width:870 px\">\n",
    "<div style=\"float:left\"><img src=\"IdeaRK4.jpg\" width=\"300\" title=\"Idea of the classical RK4 method\"/></div>\n",
    "<div style=\"float:left\"><img src=\"rkstab2.png\" width=\"300\" title=\"Stability regions of explicit RK2-5 methods\"/></div>\n",
    "<div style=\"float:right\"><img src=\"butcher.png\" width=\"300\" title=\"Butcher tableau of general RK methods\"/></div>\n",
    "<div style=\"clear:both\"></div>\n",
    "</div>   \n",
    "\n",
    "### II. Real-life applications\n",
    "\n",
    "<br>\n",
    "\n",
    "<div style=\"float:left\"><img src=\"SIR.jpg\" width=\"180\" title=\"SIR model\"/></div> \n",
    "<div style=\"float:left\"><img src=\"lorenz.jpg\" width=\"420\" title=\"Lorenz attractor\"/></div> \n",
    "<div style=\"float:right\"><img src=\"arenstorforbit.jpg\" width=\"280\" title=\"Arenstorf orbit\"/></div> \n",
    "<div style=\"clear:both\"></div>\n",
    "</div>   \n",
    "\n",
    "### III. Touching related special topics\n",
    "\n",
    "<br>\n",
    "\n",
    "<div style=\"float:left\"><img src=\"adaptiveRK.jpg\" width=\"360\" title=\"Adaptive (variable step-size) methods\"/></div> \n",
    "<div style=\"float:left\"><img src=\"parallel.jpg\" width=\"320\" title=\"Parallel methods\"/></div> \n",
    "<div style=\"float:right\"><img src=\"node.jpg\" width=\"250\" title=\"Neural ODEs\"/></div> \n",
    "<div style=\"clear:both\"></div>\n",
    "</div>   \n",
    "\n",
    "\n",
    "<br>\n",
    "<br><br>\n",
    "<br>\n",
    "<hr style=\"height:2px;border-width:0;color:black;background-color:black\">"
   ]
  },
  {
   "cell_type": "markdown",
   "metadata": {
    "slideshow": {
     "slide_type": "slide"
    }
   },
   "source": [
    "## <center>Introduction</center>\n",
    "\n",
    "\n",
    "### Differential equations and the modeling process \n",
    "\n",
    "<br>\n",
    "How can we model real-life phenomena?\n",
    "\n",
    "+ Principle based (classical approach --> based on physical phenomena)\n",
    "+ Data-driven (recent approach --> based on data; machine and deep learning)\n",
    "\n",
    "\n",
    "<br>\n",
    "The modeling process is a complex process:\n",
    "<br>\n",
    "<br>\n",
    "\n",
    "\n",
    "<div style=\"float:center\"><img src=\"modell.jpg\" width=\"870\" title=\"The complex process\"/></div> \n",
    "\n",
    "<br>\n",
    "\n",
    "<center><b>We are focusing on the step Mathematical models --> Scientific codes.</b></center>\n",
    "<br><br><br>\n"
   ]
  },
  {
   "cell_type": "markdown",
   "metadata": {},
   "source": [
    "## <center>Problem Sheet #1</center>\n",
    "\n",
    "\n",
    "### Stability of differential equations \n",
    "\n",
    "#### Classical stability and the Dahlquist's test problem<br>\n",
    "\n",
    "<div style=\"width:870 px\"></div>\n",
    "<div style=\"float:left\"><img src=\"dahlquist.jpg\" width=\"100\" title=\"Gerhmund Dahlquist\"/></div>&nbsp; <a href=\"https://en.wikipedia.org/wiki/Germund_Dahlquist\">Germund Dahlquist (1925-2005)</a>\n",
    "<br>&nbsp; Nationality: Swedish<br>\n",
    "\n",
    "&nbsp; <i>I didn't like all these \"strong\", \"perfect\", \"absolute\", \"generalized\", \"super\", \"hyper\", \"complete\" and so on in mathematical definitions. I wanted something neutral; and having been impressed by David Young's 'property A', I cose the term \"A-satble\".</i> - G. Dahlquist in 1979<br>\n",
    "\n",
    "&nbsp; Famous for: Introducing the test equation (A-stability), Stability of Multistep methods (First and Second Order Barrier), G-stability, ...\n",
    "\n",
    "<br><br><center>One of the most prestigous awards in scientific computing, the <a href=\"https://www.siam.org/prizes-recognition/major-prizes-lectures/detail/full-prize-specifications/germund-dahlquist-prize\">SIAM Germund Dahlquist Prize</a> was named after him.</center>\n"
   ]
  },
  {
   "cell_type": "markdown",
   "metadata": {},
   "source": [
    "<b>Problem 1.</b> Calculate the stability regions of the explicit (forward) and implicit (backward) Euler methods! Are these methods A-stable methods?\n",
    "<br>"
   ]
  },
  {
   "cell_type": "code",
   "execution_count": null,
   "metadata": {},
   "outputs": [],
   "source": [
    "%% MATLAB code - Explicit (Forward) Euler\n",
    "[X,Y] = meshgrid(linspace(-5,5), linspace(-5,5));\n",
    "Z = X+Y*1i;\n",
    "\n",
    "%% Stability polynomial - Fill out\n",
    "% \n",
    "% R_Z = ;\n",
    "%%\n",
    "\n",
    "contourf(X,Y,1-abs(R_Z), [0 0], 'LineWidth', 1);\n",
    "set(gca,'FontSize', 10, 'CLim', [0 1]);\n",
    "colormap([.1 .5 .3; 0 0 0; 1 1 1]);\n",
    "hold on;\n",
    "plot([-5 5], [0 0], '--k', 'LineWidth', 1);\n",
    "plot([0 0], [-5 5], '--k', 'LineWidth', 1);\n",
    "axis('square');\n",
    "title('Absolute stability region of Explicit Euler method')"
   ]
  },
  {
   "cell_type": "code",
   "execution_count": null,
   "metadata": {},
   "outputs": [],
   "source": [
    "## Special Python package including well-know methods\n",
    "from nodepy import rk\n",
    "explicit_euler = rk.loadRKM('FE')\n",
    "explicit_euler.plot_stability_region()"
   ]
  },
  {
   "cell_type": "code",
   "execution_count": null,
   "metadata": {},
   "outputs": [],
   "source": [
    "%% MATLAB code - Implicit (Backward) Euler\n",
    "[X,Y] = meshgrid(linspace(-5,5), linspace(-5,5));\n",
    "Z = X+Y*1i;\n",
    "\n",
    "%% Stability polynomial - Fill out\n",
    "% \n",
    "% R_Z = ;\n",
    "%%\n",
    "\n",
    "contourf(X,Y,1-abs(R_Z), [0 0], 'LineWidth', 1);\n",
    "set(gca,'FontSize', 10, 'CLim', [0 1]);\n",
    "colormap([.1 .5 .3; 0 0 0; 1 1 1]);\n",
    "hold on;\n",
    "plot([-5 5], [0 0], '--k', 'LineWidth', 1);\n",
    "plot([0 0], [-5 5], '--k', 'LineWidth', 1);\n",
    "axis('square');\n",
    "title('Absolute stability region of Implicit Euler method')"
   ]
  },
  {
   "cell_type": "code",
   "execution_count": null,
   "metadata": {},
   "outputs": [],
   "source": [
    "## Implicit Euler\n",
    "implicit_euler = rk.loadRKM('BE')\n",
    "implicit_euler.plot_stability_region()"
   ]
  },
  {
   "cell_type": "markdown",
   "metadata": {},
   "source": [
    "<br>\n",
    "\n",
    "<b>Problem 2.</b> [Extra] Let us consider the test problem\n",
    "\n",
    "\\begin{cases}\n",
    "u'(t)= \\lambda u(t),\\ \\ \\ t\\in[0,\\infty),\\ \\lambda\\in\\mathbb{R}&\\\\\n",
    "u(0)=1. &\n",
    "\\end{cases}\n",
    "\n",
    "Below we can see for different $\\lambda$ values the global error for the given numerical method at $t=1$.\n",
    "\n",
    "<table style=\"text-align: center\" cellpadding=\"3px\" cellspacing=\"0px\">\n",
    "<tr>\n",
    "<td style=\"border-right:1px solid;\">h</td>\n",
    "<td >$\\lambda$=-9 and EE</td>\n",
    "<td >$\\lambda$=-9 and IE</td>\n",
    "<td >$\\lambda$=-99 and EE</td>\n",
    "<td >$\\lambda$=-99 and IE</td>\n",
    "<td >$\\lambda$=-999 and EE</td>\n",
    "<td >$\\lambda$=-999 and IE</td>\n",
    "</tr>\n",
    "<tr>\n",
    "<td style=\"border-right:1px solid; border-bottom:1px solid;\">0.1</td>\n",
    "<td style=\"border-bottom:1px solid;\"> 3.07e-01</td>\n",
    "<td style=\"border-bottom:1px solid;\"> 1.20e-01</td>\n",
    "<td style=\"border-bottom:1px solid;\"> 3.12e+09</td>\n",
    "<td style=\"border-bottom:1px solid;\"> 9.17e-02</td>\n",
    "<td style=\"border-bottom:1px solid;\"> 8.95e+19</td>\n",
    "<td style=\"border-bottom:1px solid;\"> 9.93e-03</td>\n",
    "<tr>\n",
    "<td style=\"border-right:1px solid; border-bottom:1px solid;\">0.01</td>\n",
    "<td style=\"border-bottom:1px solid;\">1.72e-02</td>\n",
    "<td style=\"border-bottom:1px solid;\">1.60e-02</td>\n",
    "<td style=\"border-bottom:1px solid;\">3.62e-01</td>\n",
    "<td style=\"border-bottom:1px solid;\">1.31e-012</td>\n",
    "<td style=\"border-bottom:1px solid;\">2.38e+95</td>\n",
    "<td style=\"border-bottom:1px solid;\">9.09e-02</td>\n",
    "</tr><tr>\n",
    "<td style=\"border-right:1px solid; border-bottom:1px solid;\">0.001</td>\n",
    "<td style=\"border-bottom:1px solid;\">1.71e-03</td>\n",
    "<td style=\"border-bottom:1px solid;\">1.60e-03</td>\n",
    "<td style=\"border-bottom:1px solid;\">1.90e-02</td>\n",
    "<td style=\"border-bottom:1px solid;\">1.75e-02</td>\n",
    "<td style=\"border-bottom:1px solid;\">3.67e-01</td>\n",
    "<td style=\"border-bottom:1px solid;\">1.32e-01</td>\n",
    "</tr><tr>\n",
    "<td style=\"border-right:1px solid; border-bottom:1px solid;\">0.0001</td>\n",
    "<td style=\"border-bottom:1px solid;\">1.66e-04</td>\n",
    "<td style=\"border-bottom:1px solid;\">1.65e-04</td>\n",
    "<td style=\"border-bottom:1px solid;\">1.78e-03</td>\n",
    "<td style=\"border-bottom:1px solid;\">1.68e-03</td>\n",
    "<td style=\"border-bottom:1px solid;\">1.92e-02</td>\n",
    "<td style=\"border-bottom:1px solid;\">1.76e-02</td>\n",
    "</tr><tr>\n",
    "<td style=\"border-right:1px solid; border-bottom:1px solid;\">0.00001</td>\n",
    "<td style=\"border-bottom:1px solid;\">1.66e-05</td>\n",
    "<td style=\"border-bottom:1px solid;\">1.65e-05</td>\n",
    "<td style=\"border-bottom:1px solid;\">1.82e-04</td>\n",
    "<td style=\"border-bottom:1px solid;\">1.82e-04</td>\n",
    "<td style=\"border-bottom:1px solid;\">1.83e-03</td>\n",
    "<td style=\"border-bottom:1px solid;\">1.83e-03</td>\n",
    "</tr>\n",
    "</table>\n",
    "<br>\n",
    "\n",
    "Give an explanation for the above table, i.e. explain that why the explicit and implicit Euler methods are working so differently for different step-size values.\n",
    "<br>\n",
    "<br>"
   ]
  },
  {
   "cell_type": "markdown",
   "metadata": {},
   "source": [
    "<b>Problem 3.</b> [Extra] Determine and plot the stability region of the trapezoidal method. Is it an A-stable method?\n",
    "<br>\n",
    "<br>\n",
    "\n",
    "Give precise answers for the questions regarding the trapezoidal method.\n",
    "\n",
    "(a) How does the method behave for negative real $\\lambda$ values ($|\\lambda|>>1$)?<br>\n",
    "\n",
    "(b) How does the method behave for $h>2/(-\\lambda),\\ \\lambda\\in\\mathbb{R}^{-}$?"
   ]
  },
  {
   "cell_type": "code",
   "execution_count": null,
   "metadata": {},
   "outputs": [],
   "source": [
    "%% MATLAB code - Trapezoidal method\n",
    "[X,Y] = meshgrid(linspace(-5,5), linspace(-5,5));\n",
    "Z = X+Y*1i;\n",
    "\n",
    "%% Stability polynomial - Fill out\n",
    "% \n",
    "R_Z = ;\n",
    "%%\n",
    "\n",
    "contourf(X,Y,1-abs(), [0 0], 'LineWidth', 1);\n",
    "set(gca,'FontSize', 10, 'CLim', [0 1]);\n",
    "colormap([.1 .5 .3; 0 0 0; 1 1 1]);\n",
    "hold on;\n",
    "plot([-5 5], [0 0], '--k', 'LineWidth', 1);\n",
    "plot([0 0], [-5 5], '--k', 'LineWidth', 1);\n",
    "axis('square');\n",
    "title('Absolute stability region of Trapezoidal method')"
   ]
  }
 ],
 "metadata": {
  "kernelspec": {
   "display_name": "Octave",
   "language": "octave",
   "name": "octave"
  },
  "language_info": {
   "codemirror_mode": {
    "name": "ipython",
    "version": 3
   },
   "file_extension": ".py",
   "mimetype": "text/x-python",
   "name": "python",
   "nbconvert_exporter": "python",
   "pygments_lexer": "ipython3",
   "version": "3.8.10"
  }
 },
 "nbformat": 4,
 "nbformat_minor": 1
}
